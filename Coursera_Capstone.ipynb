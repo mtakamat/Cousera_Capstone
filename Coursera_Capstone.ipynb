{
  "nbformat": 4,
  "nbformat_minor": 0,
  "metadata": {
    "colab": {
      "name": "Coursera_Capstone.ipynb",
      "provenance": []
    },
    "kernelspec": {
      "name": "python3",
      "display_name": "Python 3"
    }
  },
  "cells": [
    {
      "cell_type": "markdown",
      "metadata": {
        "id": "Z_wWl5WWCXbT",
        "colab_type": "text"
      },
      "source": [
        " \n",
        "1.   Write some markdown to explain that this notebook will be mainly used for the capstone project.\n",
        "2.   Import the pandas library as pd.\n",
        "3.   Import the Numpy library as np.\n",
        "4.   Print the following the statement: Hello Capstone Project Course!"
      ]
    },
    {
      "cell_type": "code",
      "metadata": {
        "id": "lUZv1HSyB93P",
        "colab_type": "code",
        "colab": {
          "base_uri": "https://localhost:8080/",
          "height": 33
        },
        "outputId": "99f5f840-964b-40be-d8da-fbd3ba9c3933"
      },
      "source": [
        "import pandas as pd\n",
        "import numpy as np\n",
        "\n",
        "statement = 'Hello Capstone Project Course!'\n",
        "print(statement)"
      ],
      "execution_count": 1,
      "outputs": [
        {
          "output_type": "stream",
          "text": [
            "Hello Capstone Project Course!\n"
          ],
          "name": "stdout"
        }
      ]
    },
    {
      "cell_type": "code",
      "metadata": {
        "id": "42eR9p_YCynz",
        "colab_type": "code",
        "colab": {}
      },
      "source": [
        ""
      ],
      "execution_count": null,
      "outputs": []
    }
  ]
}